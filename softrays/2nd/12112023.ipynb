{
 "cells": [
  {
   "cell_type": "markdown",
   "metadata": {},
   "source": [
    "#### Back to the last"
   ]
  },
  {
   "cell_type": "code",
   "execution_count": 8,
   "metadata": {},
   "outputs": [],
   "source": [
    "import random\n",
    "import string"
   ]
  },
  {
   "cell_type": "code",
   "execution_count": 3,
   "metadata": {},
   "outputs": [
    {
     "name": "stdout",
     "output_type": "stream",
     "text": [
      "(x) Nah, wrong answer bruv\n",
      "(x) Nah, wrong answer bruv\n",
      "(x) Nah, wrong answer bruv\n"
     ]
    }
   ],
   "source": [
    "correct_answer = random.randint(0, 9)\n",
    "no_chances = 3\n",
    "\n",
    "for i in range(no_chances):\n",
    "    user_guess = int(input(\"Guess the number> \"))\n",
    "    if correct_answer == user_guess:\n",
    "        print(\"(+) Thou art correct!\")\n",
    "        break\n",
    "    else:\n",
    "        print(\"(x) Nah, wrong answer bruv\")"
   ]
  },
  {
   "cell_type": "markdown",
   "metadata": {},
   "source": [
    "### Functions"
   ]
  },
  {
   "cell_type": "markdown",
   "metadata": {},
   "source": [
    "```\n",
    "define function_name():\n",
    "    these lines of code\n",
    "    belong to this function\n",
    "```"
   ]
  },
  {
   "cell_type": "code",
   "execution_count": 1,
   "metadata": {},
   "outputs": [],
   "source": [
    "# Defining a function\n",
    "def say_yo():\n",
    "    print(\"Yo!\")"
   ]
  },
  {
   "cell_type": "code",
   "execution_count": 2,
   "metadata": {},
   "outputs": [
    {
     "name": "stdout",
     "output_type": "stream",
     "text": [
      "Yo!\n"
     ]
    }
   ],
   "source": [
    "# Calling a function\n",
    "say_yo()"
   ]
  },
  {
   "cell_type": "code",
   "execution_count": 3,
   "metadata": {},
   "outputs": [],
   "source": [
    "def say(text):\n",
    "    print(text)"
   ]
  },
  {
   "cell_type": "code",
   "execution_count": 7,
   "metadata": {},
   "outputs": [
    {
     "name": "stdout",
     "output_type": "stream",
     "text": [
      "123141\n"
     ]
    }
   ],
   "source": [
    "say(123141)"
   ]
  },
  {
   "cell_type": "code",
   "execution_count": 8,
   "metadata": {},
   "outputs": [
    {
     "name": "stdout",
     "output_type": "stream",
     "text": [
      "\n"
     ]
    }
   ],
   "source": [
    "print()"
   ]
  },
  {
   "cell_type": "code",
   "execution_count": 12,
   "metadata": {},
   "outputs": [],
   "source": [
    "def say(text=\"@\"):\n",
    "    print(text)"
   ]
  },
  {
   "cell_type": "code",
   "execution_count": 14,
   "metadata": {},
   "outputs": [
    {
     "name": "stdout",
     "output_type": "stream",
     "text": [
      "Radiance\n"
     ]
    }
   ],
   "source": [
    "say(\"Radiance\")"
   ]
  },
  {
   "cell_type": "code",
   "execution_count": 40,
   "metadata": {},
   "outputs": [],
   "source": [
    "def genstring(length=8):\n",
    "    result = \"\"\n",
    "    for i in range(length):\n",
    "        result += random.choice(string.ascii_letters)\n",
    "    return result\n",
    "    "
   ]
  },
  {
   "cell_type": "code",
   "execution_count": 41,
   "metadata": {},
   "outputs": [],
   "source": [
    "result = genstring()"
   ]
  },
  {
   "cell_type": "code",
   "execution_count": 42,
   "metadata": {},
   "outputs": [
    {
     "name": "stdout",
     "output_type": "stream",
     "text": [
      "ktSwbWgw\n"
     ]
    }
   ],
   "source": [
    "print(result)"
   ]
  },
  {
   "cell_type": "markdown",
   "metadata": {},
   "source": [
    "### Password Generator\n",
    "- Default length = 8\n",
    "- Contains:\n",
    "    - Uppercase letters\n",
    "    - Lowercase letters\n",
    "    - Punctuations\n",
    "    - Numbers"
   ]
  },
  {
   "cell_type": "code",
   "execution_count": 5,
   "metadata": {},
   "outputs": [],
   "source": [
    "# LETTERS = \"QWERTYUIOPASDFGHJKLZXCVBNMqwertyuiopasdfghjklzxcvbnm\"\n",
    "# NUMBERS = 1234567890\n",
    "# SYMBOLS = \"~!@#$%^&*_+<>?-=:;\"\n",
    "\n",
    "def pwd_gen(length=8):\n",
    "    result = \"\"\n",
    "    for i in range(length):\n",
    "        # result += random.choice(LETTERS+str(NUMBERS)+SYMBOLS)\n",
    "        result += random.choice(string.ascii_letters+string.digits+string.punctuation)\n",
    "    return result"
   ]
  },
  {
   "cell_type": "code",
   "execution_count": 6,
   "metadata": {},
   "outputs": [],
   "source": [
    "password = pwd_gen()"
   ]
  },
  {
   "cell_type": "code",
   "execution_count": 7,
   "metadata": {},
   "outputs": [
    {
     "name": "stdout",
     "output_type": "stream",
     "text": [
      "xLWOKRFY\n"
     ]
    }
   ],
   "source": [
    "print(password)"
   ]
  },
  {
   "cell_type": "code",
   "execution_count": 4,
   "metadata": {},
   "outputs": [
    {
     "data": {
      "text/plain": [
       "'0123456789'"
      ]
     },
     "execution_count": 4,
     "metadata": {},
     "output_type": "execute_result"
    }
   ],
   "source": [
    "string.digits"
   ]
  },
  {
   "cell_type": "code",
   "execution_count": 42,
   "metadata": {},
   "outputs": [],
   "source": [
    "\n",
    "def password_gen(length=8, amount=2):\n",
    "    all_passwords = []\n",
    "\n",
    "    for _ in range(amount):\n",
    "        all_chars = string.ascii_letters + string.digits + string.punctuation\n",
    "        random_password = random.choices(all_chars, k=length)\n",
    "        all_passwords.append(\"\".join(random_password))\n",
    "    \n",
    "    return all_passwords\n",
    "\n",
    "# with open(\"passwords.txt\", \"w\") as opnd:\n",
    "#     opnd.write(\"\\n\".join(all_passwords))"
   ]
  },
  {
   "cell_type": "code",
   "execution_count": 44,
   "metadata": {},
   "outputs": [],
   "source": [
    "pwd = password_gen()"
   ]
  },
  {
   "cell_type": "code",
   "execution_count": 45,
   "metadata": {},
   "outputs": [
    {
     "data": {
      "text/plain": [
       "[\"4~F)CmB'\", 'P*x\"9@9Z']"
      ]
     },
     "execution_count": 45,
     "metadata": {},
     "output_type": "execute_result"
    }
   ],
   "source": [
    "pwd"
   ]
  },
  {
   "cell_type": "code",
   "execution_count": 33,
   "metadata": {},
   "outputs": [
    {
     "data": {
      "text/plain": [
       "'ackerman'"
      ]
     },
     "execution_count": 33,
     "metadata": {},
     "output_type": "execute_result"
    }
   ],
   "source": [
    "\"\".join([\"a\", \"c\", \"k\", \"e\", \"r\", \"m\", \"a\", \"n\"])"
   ]
  },
  {
   "cell_type": "code",
   "execution_count": 30,
   "metadata": {},
   "outputs": [
    {
     "name": "stdout",
     "output_type": "stream",
     "text": [
      "radi\n",
      "ance\n"
     ]
    }
   ],
   "source": [
    "print(\"radi\\nance\")"
   ]
  },
  {
   "cell_type": "code",
   "execution_count": null,
   "metadata": {},
   "outputs": [],
   "source": []
  }
 ],
 "metadata": {
  "kernelspec": {
   "display_name": "Python 3",
   "language": "python",
   "name": "python3"
  },
  "language_info": {
   "codemirror_mode": {
    "name": "ipython",
    "version": 3
   },
   "file_extension": ".py",
   "mimetype": "text/x-python",
   "name": "python",
   "nbconvert_exporter": "python",
   "pygments_lexer": "ipython3",
   "version": "3.12.0"
  }
 },
 "nbformat": 4,
 "nbformat_minor": 2
}
